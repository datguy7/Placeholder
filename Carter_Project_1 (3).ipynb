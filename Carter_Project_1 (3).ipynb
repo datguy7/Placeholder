{
  "nbformat": 4,
  "nbformat_minor": 0,
  "metadata": {
    "colab": {
      "name": "Carter_Project_1.ipynb",
      "provenance": [],
      "collapsed_sections": []
    },
    "kernelspec": {
      "name": "python3",
      "display_name": "Python 3"
    }
  },
  "cells": [
    {
      "cell_type": "markdown",
      "metadata": {
        "id": "GY88hIWM-IM4"
      },
      "source": [
        "Ashton Carter\n",
        "\n",
        "Download the data using this link: download the data. (Note: Original data source)\n",
        "\n",
        "Explore the data - what do you need to do to clean this data?\n",
        "\n",
        "Are there missing values in this dataset? Some stores might not report all the data due to technical glitches or other issues. If so, deal with these appropriately.\n",
        "\n",
        "Here are a few resources to help you consider more advanced ways to deal with missing values in your dataset (check out the optional additional \n",
        "\n",
        "Pandas resources at the end of this Chapter for more resources on this):\n",
        "\n",
        "Missing Data, its types, and statistical methods to deal with it\n",
        "6 Different Ways to Compensate for Missing Values In a Dataset\n",
        "\n",
        "Dealing with missing data: Key assumptions and methods for applied analysis\n",
        "\n",
        "Feel free to use any other resources or techniques you find online that you think are appropriate/useful\n",
        "\n",
        "What are some summary statistics, aggregate information, or other useful trends you can see from the data using Pandas?\n",
        "\n",
        "Commit your work to GitHub. Watch this video if you are unsure of how to do this:"
      ]
    },
    {
      "cell_type": "code",
      "metadata": {
        "colab": {
          "base_uri": "https://localhost:8080/"
        },
        "id": "nxBcjMWT-HUb",
        "outputId": "d4baa23b-825a-4491-a7e0-f529c0b93f88"
      },
      "source": [
        "from google.colab import drive\n",
        "drive.mount ('/content/drive')\n",
        "\n",
        "import pandas as pd"
      ],
      "execution_count": null,
      "outputs": [
        {
          "output_type": "stream",
          "text": [
            "Drive already mounted at /content/drive; to attempt to forcibly remount, call drive.mount(\"/content/drive\", force_remount=True).\n"
          ],
          "name": "stdout"
        }
      ]
    },
    {
      "cell_type": "code",
      "metadata": {
        "colab": {
          "base_uri": "https://localhost:8080/",
          "height": 643
        },
        "id": "OjgItfgg-0HN",
        "outputId": "6a194ed8-f8c1-4d21-e6b3-5fc71a9726a6"
      },
      "source": [
        "import matplotlib.pyplot as plt\n",
        "import seaborn as sb\n",
        "import numpy as np\n",
        "\n",
        "file_path = ('/content/drive/MyDrive/Panda_eat_bamboo/sales_predictions.csv')\n",
        "\n",
        "sales = pd.read_csv(file_path)\n",
        "\n",
        "sales.info()\n",
        "sales.head()\n"
      ],
      "execution_count": null,
      "outputs": [
        {
          "output_type": "stream",
          "text": [
            "<class 'pandas.core.frame.DataFrame'>\n",
            "RangeIndex: 8523 entries, 0 to 8522\n",
            "Data columns (total 12 columns):\n",
            " #   Column                     Non-Null Count  Dtype  \n",
            "---  ------                     --------------  -----  \n",
            " 0   Item_Identifier            8523 non-null   object \n",
            " 1   Item_Weight                7060 non-null   float64\n",
            " 2   Item_Fat_Content           8523 non-null   object \n",
            " 3   Item_Visibility            8523 non-null   float64\n",
            " 4   Item_Type                  8523 non-null   object \n",
            " 5   Item_MRP                   8523 non-null   float64\n",
            " 6   Outlet_Identifier          8523 non-null   object \n",
            " 7   Outlet_Establishment_Year  8523 non-null   int64  \n",
            " 8   Outlet_Size                6113 non-null   object \n",
            " 9   Outlet_Location_Type       8523 non-null   object \n",
            " 10  Outlet_Type                8523 non-null   object \n",
            " 11  Item_Outlet_Sales          8523 non-null   float64\n",
            "dtypes: float64(4), int64(1), object(7)\n",
            "memory usage: 799.2+ KB\n"
          ],
          "name": "stdout"
        },
        {
          "output_type": "execute_result",
          "data": {
            "text/html": [
              "<div>\n",
              "<style scoped>\n",
              "    .dataframe tbody tr th:only-of-type {\n",
              "        vertical-align: middle;\n",
              "    }\n",
              "\n",
              "    .dataframe tbody tr th {\n",
              "        vertical-align: top;\n",
              "    }\n",
              "\n",
              "    .dataframe thead th {\n",
              "        text-align: right;\n",
              "    }\n",
              "</style>\n",
              "<table border=\"1\" class=\"dataframe\">\n",
              "  <thead>\n",
              "    <tr style=\"text-align: right;\">\n",
              "      <th></th>\n",
              "      <th>Item_Identifier</th>\n",
              "      <th>Item_Weight</th>\n",
              "      <th>Item_Fat_Content</th>\n",
              "      <th>Item_Visibility</th>\n",
              "      <th>Item_Type</th>\n",
              "      <th>Item_MRP</th>\n",
              "      <th>Outlet_Identifier</th>\n",
              "      <th>Outlet_Establishment_Year</th>\n",
              "      <th>Outlet_Size</th>\n",
              "      <th>Outlet_Location_Type</th>\n",
              "      <th>Outlet_Type</th>\n",
              "      <th>Item_Outlet_Sales</th>\n",
              "    </tr>\n",
              "  </thead>\n",
              "  <tbody>\n",
              "    <tr>\n",
              "      <th>0</th>\n",
              "      <td>FDA15</td>\n",
              "      <td>9.30</td>\n",
              "      <td>Low Fat</td>\n",
              "      <td>0.016047</td>\n",
              "      <td>Dairy</td>\n",
              "      <td>249.8092</td>\n",
              "      <td>OUT049</td>\n",
              "      <td>1999</td>\n",
              "      <td>Medium</td>\n",
              "      <td>Tier 1</td>\n",
              "      <td>Supermarket Type1</td>\n",
              "      <td>3735.1380</td>\n",
              "    </tr>\n",
              "    <tr>\n",
              "      <th>1</th>\n",
              "      <td>DRC01</td>\n",
              "      <td>5.92</td>\n",
              "      <td>Regular</td>\n",
              "      <td>0.019278</td>\n",
              "      <td>Soft Drinks</td>\n",
              "      <td>48.2692</td>\n",
              "      <td>OUT018</td>\n",
              "      <td>2009</td>\n",
              "      <td>Medium</td>\n",
              "      <td>Tier 3</td>\n",
              "      <td>Supermarket Type2</td>\n",
              "      <td>443.4228</td>\n",
              "    </tr>\n",
              "    <tr>\n",
              "      <th>2</th>\n",
              "      <td>FDN15</td>\n",
              "      <td>17.50</td>\n",
              "      <td>Low Fat</td>\n",
              "      <td>0.016760</td>\n",
              "      <td>Meat</td>\n",
              "      <td>141.6180</td>\n",
              "      <td>OUT049</td>\n",
              "      <td>1999</td>\n",
              "      <td>Medium</td>\n",
              "      <td>Tier 1</td>\n",
              "      <td>Supermarket Type1</td>\n",
              "      <td>2097.2700</td>\n",
              "    </tr>\n",
              "    <tr>\n",
              "      <th>3</th>\n",
              "      <td>FDX07</td>\n",
              "      <td>19.20</td>\n",
              "      <td>Regular</td>\n",
              "      <td>0.000000</td>\n",
              "      <td>Fruits and Vegetables</td>\n",
              "      <td>182.0950</td>\n",
              "      <td>OUT010</td>\n",
              "      <td>1998</td>\n",
              "      <td>NaN</td>\n",
              "      <td>Tier 3</td>\n",
              "      <td>Grocery Store</td>\n",
              "      <td>732.3800</td>\n",
              "    </tr>\n",
              "    <tr>\n",
              "      <th>4</th>\n",
              "      <td>NCD19</td>\n",
              "      <td>8.93</td>\n",
              "      <td>Low Fat</td>\n",
              "      <td>0.000000</td>\n",
              "      <td>Household</td>\n",
              "      <td>53.8614</td>\n",
              "      <td>OUT013</td>\n",
              "      <td>1987</td>\n",
              "      <td>High</td>\n",
              "      <td>Tier 3</td>\n",
              "      <td>Supermarket Type1</td>\n",
              "      <td>994.7052</td>\n",
              "    </tr>\n",
              "  </tbody>\n",
              "</table>\n",
              "</div>"
            ],
            "text/plain": [
              "  Item_Identifier  Item_Weight  ...        Outlet_Type  Item_Outlet_Sales\n",
              "0           FDA15         9.30  ...  Supermarket Type1          3735.1380\n",
              "1           DRC01         5.92  ...  Supermarket Type2           443.4228\n",
              "2           FDN15        17.50  ...  Supermarket Type1          2097.2700\n",
              "3           FDX07        19.20  ...      Grocery Store           732.3800\n",
              "4           NCD19         8.93  ...  Supermarket Type1           994.7052\n",
              "\n",
              "[5 rows x 12 columns]"
            ]
          },
          "metadata": {
            "tags": []
          },
          "execution_count": 62
        }
      ]
    },
    {
      "cell_type": "code",
      "metadata": {
        "id": "DlAWrpnQBn8q",
        "colab": {
          "base_uri": "https://localhost:8080/"
        },
        "outputId": "bd00d1cc-0812-4db4-fcf3-53185ba68cee"
      },
      "source": [
        "sales['Item_Outlet_Sales'].describe()"
      ],
      "execution_count": null,
      "outputs": [
        {
          "output_type": "execute_result",
          "data": {
            "text/plain": [
              "count     8523.000000\n",
              "mean      2181.288914\n",
              "std       1706.499616\n",
              "min         33.290000\n",
              "25%        834.247400\n",
              "50%       1794.331000\n",
              "75%       3101.296400\n",
              "max      13086.964800\n",
              "Name: Item_Outlet_Sales, dtype: float64"
            ]
          },
          "metadata": {
            "tags": []
          },
          "execution_count": 63
        }
      ]
    },
    {
      "cell_type": "code",
      "metadata": {
        "id": "FwRuyhvVMt3B"
      },
      "source": [
        "\n",
        "\n",
        "# decided to fill missing values with 0 and add a flag to the row so that the other data wouldn't be lost.  The flag will be able to alert the future model to treat this data differently\n",
        "sales['Missing_Item_Weight'] = sales['Item_Weight'].isnull()\n",
        "\n",
        "# created a separate class of \"missing\" so that other data wouldn't be lost.  \n",
        "sales['Item_Weight'] = sales.loc[:,'Item_Weight'].fillna(0)\n",
        "sales['Outlet_Size'] = sales.loc[:,'Outlet_Size'].fillna('Missing')\n",
        "\n"
      ],
      "execution_count": null,
      "outputs": []
    },
    {
      "cell_type": "code",
      "metadata": {
        "colab": {
          "base_uri": "https://localhost:8080/",
          "height": 661
        },
        "id": "LOcGMogqVeIJ",
        "outputId": "1be454f1-5e19-4f31-e6cd-fb124237c82f"
      },
      "source": [
        "#Testing to see that na values are gone\n",
        "sales.info()\n",
        "sales.head()"
      ],
      "execution_count": null,
      "outputs": [
        {
          "output_type": "stream",
          "text": [
            "<class 'pandas.core.frame.DataFrame'>\n",
            "RangeIndex: 8523 entries, 0 to 8522\n",
            "Data columns (total 13 columns):\n",
            " #   Column                     Non-Null Count  Dtype  \n",
            "---  ------                     --------------  -----  \n",
            " 0   Item_Identifier            8523 non-null   object \n",
            " 1   Item_Weight                8523 non-null   float64\n",
            " 2   Item_Fat_Content           8523 non-null   object \n",
            " 3   Item_Visibility            8523 non-null   float64\n",
            " 4   Item_Type                  8523 non-null   object \n",
            " 5   Item_MRP                   8523 non-null   float64\n",
            " 6   Outlet_Identifier          8523 non-null   object \n",
            " 7   Outlet_Establishment_Year  8523 non-null   int64  \n",
            " 8   Outlet_Size                8523 non-null   object \n",
            " 9   Outlet_Location_Type       8523 non-null   object \n",
            " 10  Outlet_Type                8523 non-null   object \n",
            " 11  Item_Outlet_Sales          8523 non-null   float64\n",
            " 12  Missing_Item_Weight        8523 non-null   bool   \n",
            "dtypes: bool(1), float64(4), int64(1), object(7)\n",
            "memory usage: 807.5+ KB\n"
          ],
          "name": "stdout"
        },
        {
          "output_type": "execute_result",
          "data": {
            "text/html": [
              "<div>\n",
              "<style scoped>\n",
              "    .dataframe tbody tr th:only-of-type {\n",
              "        vertical-align: middle;\n",
              "    }\n",
              "\n",
              "    .dataframe tbody tr th {\n",
              "        vertical-align: top;\n",
              "    }\n",
              "\n",
              "    .dataframe thead th {\n",
              "        text-align: right;\n",
              "    }\n",
              "</style>\n",
              "<table border=\"1\" class=\"dataframe\">\n",
              "  <thead>\n",
              "    <tr style=\"text-align: right;\">\n",
              "      <th></th>\n",
              "      <th>Item_Identifier</th>\n",
              "      <th>Item_Weight</th>\n",
              "      <th>Item_Fat_Content</th>\n",
              "      <th>Item_Visibility</th>\n",
              "      <th>Item_Type</th>\n",
              "      <th>Item_MRP</th>\n",
              "      <th>Outlet_Identifier</th>\n",
              "      <th>Outlet_Establishment_Year</th>\n",
              "      <th>Outlet_Size</th>\n",
              "      <th>Outlet_Location_Type</th>\n",
              "      <th>Outlet_Type</th>\n",
              "      <th>Item_Outlet_Sales</th>\n",
              "      <th>Missing_Item_Weight</th>\n",
              "    </tr>\n",
              "  </thead>\n",
              "  <tbody>\n",
              "    <tr>\n",
              "      <th>0</th>\n",
              "      <td>FDA15</td>\n",
              "      <td>9.30</td>\n",
              "      <td>Low Fat</td>\n",
              "      <td>0.016047</td>\n",
              "      <td>Dairy</td>\n",
              "      <td>249.8092</td>\n",
              "      <td>OUT049</td>\n",
              "      <td>1999</td>\n",
              "      <td>Medium</td>\n",
              "      <td>Tier 1</td>\n",
              "      <td>Supermarket Type1</td>\n",
              "      <td>3735.1380</td>\n",
              "      <td>False</td>\n",
              "    </tr>\n",
              "    <tr>\n",
              "      <th>1</th>\n",
              "      <td>DRC01</td>\n",
              "      <td>5.92</td>\n",
              "      <td>Regular</td>\n",
              "      <td>0.019278</td>\n",
              "      <td>Soft Drinks</td>\n",
              "      <td>48.2692</td>\n",
              "      <td>OUT018</td>\n",
              "      <td>2009</td>\n",
              "      <td>Medium</td>\n",
              "      <td>Tier 3</td>\n",
              "      <td>Supermarket Type2</td>\n",
              "      <td>443.4228</td>\n",
              "      <td>False</td>\n",
              "    </tr>\n",
              "    <tr>\n",
              "      <th>2</th>\n",
              "      <td>FDN15</td>\n",
              "      <td>17.50</td>\n",
              "      <td>Low Fat</td>\n",
              "      <td>0.016760</td>\n",
              "      <td>Meat</td>\n",
              "      <td>141.6180</td>\n",
              "      <td>OUT049</td>\n",
              "      <td>1999</td>\n",
              "      <td>Medium</td>\n",
              "      <td>Tier 1</td>\n",
              "      <td>Supermarket Type1</td>\n",
              "      <td>2097.2700</td>\n",
              "      <td>False</td>\n",
              "    </tr>\n",
              "    <tr>\n",
              "      <th>3</th>\n",
              "      <td>FDX07</td>\n",
              "      <td>19.20</td>\n",
              "      <td>Regular</td>\n",
              "      <td>0.000000</td>\n",
              "      <td>Fruits and Vegetables</td>\n",
              "      <td>182.0950</td>\n",
              "      <td>OUT010</td>\n",
              "      <td>1998</td>\n",
              "      <td>Missing</td>\n",
              "      <td>Tier 3</td>\n",
              "      <td>Grocery Store</td>\n",
              "      <td>732.3800</td>\n",
              "      <td>False</td>\n",
              "    </tr>\n",
              "    <tr>\n",
              "      <th>4</th>\n",
              "      <td>NCD19</td>\n",
              "      <td>8.93</td>\n",
              "      <td>Low Fat</td>\n",
              "      <td>0.000000</td>\n",
              "      <td>Household</td>\n",
              "      <td>53.8614</td>\n",
              "      <td>OUT013</td>\n",
              "      <td>1987</td>\n",
              "      <td>High</td>\n",
              "      <td>Tier 3</td>\n",
              "      <td>Supermarket Type1</td>\n",
              "      <td>994.7052</td>\n",
              "      <td>False</td>\n",
              "    </tr>\n",
              "  </tbody>\n",
              "</table>\n",
              "</div>"
            ],
            "text/plain": [
              "  Item_Identifier  Item_Weight  ... Item_Outlet_Sales  Missing_Item_Weight\n",
              "0           FDA15         9.30  ...         3735.1380                False\n",
              "1           DRC01         5.92  ...          443.4228                False\n",
              "2           FDN15        17.50  ...         2097.2700                False\n",
              "3           FDX07        19.20  ...          732.3800                False\n",
              "4           NCD19         8.93  ...          994.7052                False\n",
              "\n",
              "[5 rows x 13 columns]"
            ]
          },
          "metadata": {
            "tags": []
          },
          "execution_count": 65
        }
      ]
    },
    {
      "cell_type": "code",
      "metadata": {
        "id": "KwnvlXD_V230",
        "colab": {
          "base_uri": "https://localhost:8080/",
          "height": 141
        },
        "outputId": "9c775662-a8c7-4625-d19b-57cb0b177228"
      },
      "source": [
        "\n",
        "#consolidating data entries that are presumably the same\n",
        "\n",
        "sales['Item_Fat_Content'] = sales['Item_Fat_Content'].str.replace('LF','Low Fat')\n",
        "sales['Item_Fat_Content'] = sales['Item_Fat_Content'].str.replace('low fat','Low Fat')\n",
        "sales['Item_Fat_Content'] = sales['Item_Fat_Content'].str.replace('reg','Regular')\n",
        "\n",
        "\n",
        "sales.groupby(['Item_Fat_Content'])[['Item_Outlet_Sales']].mean()"
      ],
      "execution_count": null,
      "outputs": [
        {
          "output_type": "execute_result",
          "data": {
            "text/html": [
              "<div>\n",
              "<style scoped>\n",
              "    .dataframe tbody tr th:only-of-type {\n",
              "        vertical-align: middle;\n",
              "    }\n",
              "\n",
              "    .dataframe tbody tr th {\n",
              "        vertical-align: top;\n",
              "    }\n",
              "\n",
              "    .dataframe thead th {\n",
              "        text-align: right;\n",
              "    }\n",
              "</style>\n",
              "<table border=\"1\" class=\"dataframe\">\n",
              "  <thead>\n",
              "    <tr style=\"text-align: right;\">\n",
              "      <th></th>\n",
              "      <th>Item_Outlet_Sales</th>\n",
              "    </tr>\n",
              "    <tr>\n",
              "      <th>Item_Fat_Content</th>\n",
              "      <th></th>\n",
              "    </tr>\n",
              "  </thead>\n",
              "  <tbody>\n",
              "    <tr>\n",
              "      <th>Low Fat</th>\n",
              "      <td>2157.711534</td>\n",
              "    </tr>\n",
              "    <tr>\n",
              "      <th>Regular</th>\n",
              "      <td>2224.561170</td>\n",
              "    </tr>\n",
              "  </tbody>\n",
              "</table>\n",
              "</div>"
            ],
            "text/plain": [
              "                  Item_Outlet_Sales\n",
              "Item_Fat_Content                   \n",
              "Low Fat                 2157.711534\n",
              "Regular                 2224.561170"
            ]
          },
          "metadata": {
            "tags": []
          },
          "execution_count": 66
        }
      ]
    },
    {
      "cell_type": "code",
      "metadata": {
        "id": "3GTQvZ3Xqqqc",
        "colab": {
          "base_uri": "https://localhost:8080/"
        },
        "outputId": "77403c3d-7d6c-43ca-d0a6-23d9d0b05085"
      },
      "source": [
        "# Checking that only two types remain\r\n",
        "sales['Item_Fat_Content'].unique()\r\n",
        "#item_fat_viz = sales.loc[:,:].groupby(['Item_Fat_Content'])['Item_Outlet_Sales'].sum().sort_values(ascending = False)\r\n",
        "#item_fat_viz.head()"
      ],
      "execution_count": null,
      "outputs": [
        {
          "output_type": "execute_result",
          "data": {
            "text/plain": [
              "Item_Fat_Content\n",
              "Regular    6.687031e+06\n",
              "Low Fat    1.190409e+07\n",
              "Name: Item_Outlet_Sales, dtype: float64"
            ]
          },
          "metadata": {
            "tags": []
          },
          "execution_count": 112
        }
      ]
    },
    {
      "cell_type": "code",
      "metadata": {
        "id": "yMqiYB_hLKD0"
      },
      "source": [
        "outlet_size_viz = sales.loc[:,:].groupby(['Outlet_Size'])['Item_Outlet_Sales'].sum().sort_values(ascending = False)\n",
        "#sales.groupby(['Outlet_Size'])[['Item_Outlet_Sales']].sum()\n",
        "#outlet_size_viz.values\n",
        "\n",
        "# various pairings of data output to see if any trends emerge. will graph below\n",
        "item_fat_viz = sales.loc[:,:].groupby(['Item_Fat_Content'])['Item_Outlet_Sales'].sum().sort_values(ascending = False)\n",
        "item_type_viz = sales.loc[:,:].groupby(['Item_Type'])['Item_Outlet_Sales'].sum().sort_values(ascending = False)\n",
        "item_MRP_viz = sales.loc[:,:].groupby(['Item_MRP'])['Item_Outlet_Sales'].sum().sort_values(ascending = False)\n",
        "item_ID_viz = sales.loc[:,:].groupby(['Outlet_Identifier'])['Item_Outlet_Sales'].sum()\n",
        "item_estab_viz = sales.loc[:,:].groupby(['Outlet_Establishment_Year'])['Item_Outlet_Sales'].sum().sort_values(ascending = False)\n",
        "item_otype_viz = sales.loc[:,:].groupby(['Outlet_Type'])['Item_Outlet_Sales'].sum().sort_values(ascending = False)\n",
        "item_missing_viz = sales.loc[:,:].groupby(['Missing_Item_Weight'])['Item_Outlet_Sales'].sum().sort_values(ascending = False)\n",
        "item_viz_viz = sales.loc[:,:].groupby(['Item_Visibility'])['Item_Outlet_Sales']"
      ],
      "execution_count": null,
      "outputs": []
    },
    {
      "cell_type": "code",
      "metadata": {
        "colab": {
          "base_uri": "https://localhost:8080/",
          "height": 294
        },
        "id": "Ek2__b9zSheB",
        "outputId": "8b6fb0f5-10ea-4761-f08c-5b79d2cefff8"
      },
      "source": [
        "plt.bar(outlet_size_viz.index, outlet_size_viz.values)"
      ],
      "execution_count": null,
      "outputs": [
        {
          "output_type": "execute_result",
          "data": {
            "text/plain": [
              "<BarContainer object of 4 artists>"
            ]
          },
          "metadata": {
            "tags": []
          },
          "execution_count": 88
        },
        {
          "output_type": "display_data",
          "data": {
            "image/png": "[encoded data removed]",
            "text/plain": [
              "<Figure size 432x288 with 1 Axes>"
            ]
          },
          "metadata": {
            "tags": [],
            "needs_background": "light"
          }
        }
      ]
    },
    {
      "cell_type": "code",
      "metadata": {
        "colab": {
          "base_uri": "https://localhost:8080/",
          "height": 265
        },
        "id": "lKtjMjGxMMIa",
        "outputId": "8f95d0c9-0814-48b5-faf9-ea44599f1b51"
      },
      "source": [
        "#plt.bar(outlet_size_viz.index, outlet_size_viz.values)\n",
        "# shows that the basic distribution of outlet size counts and outlet size compared to sales is similar\n",
        "sales['Outlet_Size'].hist();\n",
        "\n",
        "\n"
      ],
      "execution_count": null,
      "outputs": [
        {
          "output_type": "display_data",
          "data": {
            "image/png": "[encoded data removed]",
            "text/plain": [
              "<Figure size 432x288 with 1 Axes>"
            ]
          },
          "metadata": {
            "tags": [],
            "needs_background": "light"
          }
        }
      ]
    },
    {
      "cell_type": "code",
      "metadata": {
        "colab": {
          "base_uri": "https://localhost:8080/",
          "height": 280
        },
        "id": "uDfnQjfxvIx1",
        "outputId": "1c8f6350-2989-4681-b982-dea6afc6ee27"
      },
      "source": [
        "sb.boxplot(x = sales['Item_Outlet_Sales']);\n",
        "#plt.scatter(sales[''])"
      ],
      "execution_count": null,
      "outputs": [
        {
          "output_type": "display_data",
          "data": {
            "image/png": "[encoded data removed]",
            "text/plain": [
              "<Figure size 432x288 with 1 Axes>"
            ]
          },
          "metadata": {
            "tags": [],
            "needs_background": "light"
          }
        }
      ]
    },
    {
      "cell_type": "code",
      "metadata": {
        "id": "PWWsOr3z5GtL",
        "colab": {
          "base_uri": "https://localhost:8080/"
        },
        "outputId": "73ef6f94-b526-40ac-da88-78a0b4863ebd"
      },
      "source": [
        "outliers = sales['Item_Outlet_Sales'] > 6000\n",
        "outliers = sales[outliers]\n",
        "outliers['Item_Outlet_Sales'].describe()\n",
        "#sb.boxplot(x = outliers['Item_Outlet_Sales']);"
      ],
      "execution_count": null,
      "outputs": [
        {
          "output_type": "execute_result",
          "data": {
            "text/plain": [
              "count      289.000000\n",
              "mean      7137.829850\n",
              "std       1128.248513\n",
              "min       6002.852800\n",
              "25%       6327.763200\n",
              "50%       6796.486400\n",
              "75%       7534.192800\n",
              "max      13086.964800\n",
              "Name: Item_Outlet_Sales, dtype: float64"
            ]
          },
          "metadata": {
            "tags": []
          },
          "execution_count": 71
        }
      ]
    },
    {
      "cell_type": "code",
      "metadata": {
        "colab": {
          "base_uri": "https://localhost:8080/",
          "height": 283
        },
        "id": "PQq6eG9CPl9D",
        "outputId": "60e1d973-9bd8-4042-9636-0837eb73f416"
      },
      "source": [
        "#higher ratio of medium : others than original data set\n",
        "outliers['Outlet_Size'].hist()"
      ],
      "execution_count": null,
      "outputs": [
        {
          "output_type": "execute_result",
          "data": {
            "text/plain": [
              "<matplotlib.axes._subplots.AxesSubplot at 0x7fe1ac3fb2e8>"
            ]
          },
          "metadata": {
            "tags": []
          },
          "execution_count": 83
        },
        {
          "output_type": "display_data",
          "data": {
            "image/png": "[encoded data removed]",
            "text/plain": [
              "<Figure size 432x288 with 1 Axes>"
            ]
          },
          "metadata": {
            "tags": [],
            "needs_background": "light"
          }
        }
      ]
    },
    {
      "cell_type": "code",
      "metadata": {
        "colab": {
          "base_uri": "https://localhost:8080/"
        },
        "id": "70ep90oQwYOv",
        "outputId": "5bc391cf-9c04-4872-cdfe-cb8fdefd0599"
      },
      "source": [
        "#small = sales['Outlet_Size'] == 'Small'\n",
        "#medium = sales['Outlet_Size'] == 'Medium'\n",
        "#high = sales['Outlet_Size'] == 'High'\n",
        "#missing = sales['Outlet_Size'] == 'Missing'\n",
        "\n",
        "\n",
        "small = sa['les.loc[sales['Outlet_Size'] == 'Small',:]\n",
        "medium = sales.loc[sales['Outlet_Size'] == 'Medium',:]\n",
        "high = sales.loc[sales['Outlet_Size'] == 'High',:]\n",
        "missing = sales.loc[sales['Outlet_Size'] == 'Missing',:]\n",
        "\n",
        "small = small['Item_Outlet_Sales'].tolist()\n",
        "medium = medium['Item_Outlet_Sales'].tolist()\n",
        "high = high['Item_Outlet_Sales'].tolist()\n",
        "missing = missing['Item_Outlet_Sales'].tolist()\n",
        "\n",
        "#outlet_size_H = [small, medium, high, missing]\n",
        "\n",
        "#small = [[1,2,3],[54,32,67],[12,4,4]]\n",
        "\n",
        "#sb.heatmap(small, cmap= 'Blues');"
      ],
      "execution_count": null,
      "outputs": [
        {
          "output_type": "execute_result",
          "data": {
            "text/plain": [
              "2793"
            ]
          },
          "metadata": {
            "tags": []
          },
          "execution_count": 40
        }
      ]
    },
    {
      "cell_type": "code",
      "metadata": {
        "colab": {
          "base_uri": "https://localhost:8080/",
          "height": 283
        },
        "id": "207O3_WtR0GR",
        "outputId": "5ad83dd1-96bd-4623-9de8-f736e5f2bb83"
      },
      "source": [
        "\n",
        "sales['Item_Fat_Content'].hist()"
      ],
      "execution_count": null,
      "outputs": [
        {
          "output_type": "execute_result",
          "data": {
            "text/plain": [
              "<matplotlib.axes._subplots.AxesSubplot at 0x7fe1aaf76b70>"
            ]
          },
          "metadata": {
            "tags": []
          },
          "execution_count": 84
        },
        {
          "output_type": "display_data",
          "data": {
            "image/png": "[encoded data removed]",
            "text/plain": [
              "<Figure size 432x288 with 1 Axes>"
            ]
          },
          "metadata": {
            "tags": [],
            "needs_background": "light"
          }
        }
      ]
    },
    {
      "cell_type": "code",
      "metadata": {
        "id": "HAQuNckSNt6q",
        "colab": {
          "base_uri": "https://localhost:8080/",
          "height": 293
        },
        "outputId": "50ae5530-e73e-4aea-8f00-87b69629b48e"
      },
      "source": [
        "\n",
        "# I didn't add labels and such since I don't expect these graphs to remain in the final.\n",
        "plt.bar(item_fat_viz.index, item_fat_viz.values)"
      ],
      "execution_count": null,
      "outputs": [
        {
          "output_type": "execute_result",
          "data": {
            "text/plain": [
              "<BarContainer object of 2 artists>"
            ]
          },
          "metadata": {
            "tags": []
          },
          "execution_count": 32
        },
        {
          "output_type": "display_data",
          "data": {
            "image/png": "[encoded data removed]",
            "text/plain": [
              "<Figure size 432x288 with 1 Axes>"
            ]
          },
          "metadata": {
            "tags": [],
            "needs_background": "light"
          }
        }
      ]
    },
    {
      "cell_type": "code",
      "metadata": {
        "id": "5bPW7spxgDUX"
      },
      "source": [
        ""
      ],
      "execution_count": null,
      "outputs": []
    },
    {
      "cell_type": "code",
      "metadata": {
        "id": "w9K3mIdbgJP0"
      },
      "source": [
        ""
      ],
      "execution_count": null,
      "outputs": []
    },
    {
      "cell_type": "code",
      "metadata": {
        "colab": {
          "base_uri": "https://localhost:8080/",
          "height": 399
        },
        "id": "mw8AwRBoTniR",
        "outputId": "a89680f2-ab2a-434c-9fbf-21658ae61d33"
      },
      "source": [
        "item_type = sales.sort_values(by = 'Item_Type', ascending= False)\n",
        "#item_type['Item_Type'].hist();\n",
        "Fruits = sales['Item_Type'] == 'Fruits and Vegetables'\n",
        "\n",
        "#sales['Item_Type'].hist()\n",
        "#plt.xticks(rotation = 90)\n",
        "\n",
        "Fruits = sales[Fruits]\n",
        "#Fruits.tail(15)\n",
        "#Fruits['Item_Type'].hist()\n",
        "\n",
        "# Trying to make sure I understand what the histogram is showing me, I thought it was a straight count per item type\n",
        "# upon plotting the fruits and veggies columns by itself and seeing a different bar height.  \n",
        "#I noticed the bars were blended into each other and increased the bin count and now they are the same and each category has its own distinct bar.\n",
        "sales['Item_Type'].hist(bins = 40)\n",
        "plt.xticks(rotation = 90)"
      ],
      "execution_count": null,
      "outputs": [
        {
          "output_type": "execute_result",
          "data": {
            "text/plain": [
              "([0, 1, 2, 3, 4, 5, 6, 7, 8, 9, 10, 11, 12, 13, 14, 15],\n",
              " <a list of 16 Text major ticklabel objects>)"
            ]
          },
          "metadata": {
            "tags": []
          },
          "execution_count": 134
        },
        {
          "output_type": "display_data",
          "data": {
            "image/png": "[encoded data removed]",
            "text/plain": [
              "<Figure size 432x288 with 1 Axes>"
            ]
          },
          "metadata": {
            "tags": [],
            "needs_background": "light"
          }
        }
      ]
    },
    {
      "cell_type": "code",
      "metadata": {
        "id": "iIwB8ZZujERO",
        "colab": {
          "base_uri": "https://localhost:8080/",
          "height": 409
        },
        "outputId": "26133e7a-add9-4e31-ce49-20e43c1a780a"
      },
      "source": [
        "plt.bar(item_type_viz.index, item_type_viz.values)\r\n",
        "plt.xticks(rotation = 90)"
      ],
      "execution_count": null,
      "outputs": [
        {
          "output_type": "execute_result",
          "data": {
            "text/plain": [
              "([0, 1, 2, 3, 4, 5, 6, 7, 8, 9, 10, 11, 12, 13, 14, 15],\n",
              " <a list of 16 Text major ticklabel objects>)"
            ]
          },
          "metadata": {
            "tags": []
          },
          "execution_count": 20
        },
        {
          "output_type": "display_data",
          "data": {
            "image/png": "[encoded data removed]",
            "text/plain": [
              "<Figure size 432x288 with 1 Axes>"
            ]
          },
          "metadata": {
            "tags": [],
            "needs_background": "light"
          }
        }
      ]
    },
    {
      "cell_type": "markdown",
      "metadata": {
        "id": "Uap4yjWQZOXl"
      },
      "source": [
        ""
      ]
    },
    {
      "cell_type": "code",
      "metadata": {
        "colab": {
          "base_uri": "https://localhost:8080/",
          "height": 427
        },
        "id": "nE3oLSvcgQTx",
        "outputId": "d2f42ad3-4337-45ad-9207-1b2c397c1eef"
      },
      "source": [
        "# I'm not really sure how to interprety MRP by Sales.  I'm not sure if sales are a count of the number of sales per item type or \n",
        "# the gross/net dollar valuess of the sales per item type\n",
        "# this histogram shows the distribution of MRP for the dataset \n",
        "sales['Item_MRP'].hist(bins = 10)\n",
        "#same as box plot information with extras\n",
        "sales['Item_MRP'].describe()"
      ],
      "execution_count": null,
      "outputs": [
        {
          "output_type": "execute_result",
          "data": {
            "text/plain": [
              "count    8523.000000\n",
              "mean      140.992782\n",
              "std        62.275067\n",
              "min        31.290000\n",
              "25%        93.826500\n",
              "50%       143.012800\n",
              "75%       185.643700\n",
              "max       266.888400\n",
              "Name: Item_MRP, dtype: float64"
            ]
          },
          "metadata": {
            "tags": []
          },
          "execution_count": 144
        },
        {
          "output_type": "display_data",
          "data": {
            "image/png": "[encoded data removed]",
            "text/plain": [
              "<Figure size 432x288 with 1 Axes>"
            ]
          },
          "metadata": {
            "tags": [],
            "needs_background": "light"
          }
        }
      ]
    },
    {
      "cell_type": "code",
      "metadata": {
        "colab": {
          "base_uri": "https://localhost:8080/",
          "height": 280
        },
        "id": "yjgLo-uRgMhQ",
        "outputId": "72207fbd-9a2b-46b5-fbc0-61d5b4af9f19"
      },
      "source": [
        "sb.boxplot(x = sales['Item_MRP']);"
      ],
      "execution_count": null,
      "outputs": [
        {
          "output_type": "display_data",
          "data": {
            "image/png": "[encoded data removed]",
            "text/plain": [
              "<Figure size 432x288 with 1 Axes>"
            ]
          },
          "metadata": {
            "tags": [],
            "needs_background": "light"
          }
        }
      ]
    },
    {
      "cell_type": "code",
      "metadata": {
        "id": "QP8Kho9iUQbS",
        "colab": {
          "base_uri": "https://localhost:8080/",
          "height": 283
        },
        "outputId": "69d78cb7-fdf3-4cb9-fa36-a960f937a447"
      },
      "source": [
        "# If sales is gross dollars then this shows that the higher the price the higher the gross/net $ value of sales which would be an incomplete story\n",
        "# since there would be more proceeds per item sold, but I would also expect fewer items to be sold as dollar value increases. so the two should avg out\n",
        "# if sales is count, this shows the higher the price the more of the item is sold which is defnitely contrary to expectation\n",
        "# unless these are luxury grocery stores lol\n",
        "plt.scatter(item_MRP_viz.index, item_MRP_viz.values)"
      ],
      "execution_count": null,
      "outputs": [
        {
          "output_type": "execute_result",
          "data": {
            "text/plain": [
              "<matplotlib.collections.PathCollection at 0x7f6d56c3ceb8>"
            ]
          },
          "metadata": {
            "tags": []
          },
          "execution_count": 26
        },
        {
          "output_type": "display_data",
          "data": {
            "image/png": "[encoded data removed]",
            "text/plain": [
              "<Figure size 432x288 with 1 Axes>"
            ]
          },
          "metadata": {
            "tags": [],
            "needs_background": "light"
          }
        }
      ]
    },
    {
      "cell_type": "code",
      "metadata": {
        "colab": {
          "base_uri": "https://localhost:8080/",
          "height": 396
        },
        "id": "etqT_I66ZWvl",
        "outputId": "bcf6986a-f96f-4449-bcc8-d6283c16222f"
      },
      "source": [
        "plt.bar(item_ID_viz.index, item_ID_viz.values)\r\n",
        "plt.xticks(rotation = 90)\r\n",
        "# interesting this matches the bar chart but not the histogram\r\n",
        "sales['Outlet_Identifier'].describe()"
      ],
      "execution_count": null,
      "outputs": [
        {
          "output_type": "execute_result",
          "data": {
            "text/plain": [
              "count       8523\n",
              "unique        10\n",
              "top       OUT027\n",
              "freq         935\n",
              "Name: Outlet_Identifier, dtype: object"
            ]
          },
          "metadata": {
            "tags": []
          },
          "execution_count": 153
        },
        {
          "output_type": "display_data",
          "data": {
            "image/png": "[encoded data removed]",
            "text/plain": [
              "<Figure size 432x288 with 1 Axes>"
            ]
          },
          "metadata": {
            "tags": [],
            "needs_background": "light"
          }
        }
      ]
    },
    {
      "cell_type": "code",
      "metadata": {
        "colab": {
          "base_uri": "https://localhost:8080/",
          "height": 313
        },
        "id": "SctKB2XBkNtv",
        "outputId": "e50f6c48-7f00-4e48-e0c1-fb1cdc5bb427"
      },
      "source": [
        "# outlet 27 is the same for the histogram but higher for the bar chart against sales.\n",
        "sales['Outlet_Identifier'].hist(bins = 30)\n",
        "plt.xticks(rotation = 90)"
      ],
      "execution_count": null,
      "outputs": [
        {
          "output_type": "execute_result",
          "data": {
            "text/plain": [
              "([0, 1, 2, 3, 4, 5, 6, 7, 8, 9], <a list of 10 Text major ticklabel objects>)"
            ]
          },
          "metadata": {
            "tags": []
          },
          "execution_count": 150
        },
        {
          "output_type": "display_data",
          "data": {
            "image/png": "[encoded data removed]",
            "text/plain": [
              "<Figure size 432x288 with 1 Axes>"
            ]
          },
          "metadata": {
            "tags": [],
            "needs_background": "light"
          }
        }
      ]
    },
    {
      "cell_type": "code",
      "metadata": {
        "colab": {
          "base_uri": "https://localhost:8080/",
          "height": 293
        },
        "id": "P0KaQETrZym0",
        "outputId": "2dbbfb22-8407-471d-a2b1-2507dedecf6b"
      },
      "source": [
        "plt.bar(item_estab_viz.index, item_estab_viz.values)"
      ],
      "execution_count": null,
      "outputs": [
        {
          "output_type": "execute_result",
          "data": {
            "text/plain": [
              "<BarContainer object of 9 artists>"
            ]
          },
          "metadata": {
            "tags": []
          },
          "execution_count": 32
        },
        {
          "output_type": "display_data",
          "data": {
            "image/png": "[encoded data removed]",
            "text/plain": [
              "<Figure size 432x288 with 1 Axes>"
            ]
          },
          "metadata": {
            "tags": [],
            "needs_background": "light"
          }
        }
      ]
    },
    {
      "cell_type": "code",
      "metadata": {
        "colab": {
          "base_uri": "https://localhost:8080/",
          "height": 283
        },
        "id": "7GTj8N9Ek4qk",
        "outputId": "85b3c6da-5ae2-4ea6-e49c-aa87c4bd4f21"
      },
      "source": [
        "# pretty consistent\n",
        "sales['Outlet_Establishment_Year'].hist(bins = 30)"
      ],
      "execution_count": null,
      "outputs": [
        {
          "output_type": "execute_result",
          "data": {
            "text/plain": [
              "<matplotlib.axes._subplots.AxesSubplot at 0x7fe1aa9c71d0>"
            ]
          },
          "metadata": {
            "tags": []
          },
          "execution_count": 151
        },
        {
          "output_type": "display_data",
          "data": {
            "image/png": "[encoded data removed]",
            "text/plain": [
              "<Figure size 432x288 with 1 Axes>"
            ]
          },
          "metadata": {
            "tags": [],
            "needs_background": "light"
          }
        }
      ]
    },
    {
      "cell_type": "code",
      "metadata": {
        "colab": {
          "base_uri": "https://localhost:8080/",
          "height": 381
        },
        "id": "jWdiljywaLku",
        "outputId": "95509c5f-f0f9-46d2-a265-3649f9177676"
      },
      "source": [
        "# supermarket type 1 is way above other types but in the previous graph 1985 is way above. I thought grocery store and 1985 were strongly correlated\r\n",
        "# maybe high quantity not necessarily high value?\r\n",
        "plt.bar(item_otype_viz.index, item_otype_viz.values)\r\n",
        "plt.xticks(rotation = 90)"
      ],
      "execution_count": null,
      "outputs": [
        {
          "output_type": "execute_result",
          "data": {
            "text/plain": [
              "([0, 1, 2, 3], <a list of 4 Text major ticklabel objects>)"
            ]
          },
          "metadata": {
            "tags": []
          },
          "execution_count": 155
        },
        {
          "output_type": "display_data",
          "data": {
            "image/png": "[encoded data removed]",
            "text/plain": [
              "<Figure size 432x288 with 1 Axes>"
            ]
          },
          "metadata": {
            "tags": [],
            "needs_background": "light"
          }
        }
      ]
    },
    {
      "cell_type": "code",
      "metadata": {
        "colab": {
          "base_uri": "https://localhost:8080/",
          "height": 283
        },
        "id": "FjxcfmjKlx7V",
        "outputId": "c877776f-768c-4003-9610-117218933260"
      },
      "source": [
        "sales['Outlet_Type'].hist()"
      ],
      "execution_count": null,
      "outputs": [
        {
          "output_type": "execute_result",
          "data": {
            "text/plain": [
              "<matplotlib.axes._subplots.AxesSubplot at 0x7fe1aaa150b8>"
            ]
          },
          "metadata": {
            "tags": []
          },
          "execution_count": 154
        },
        {
          "output_type": "display_data",
          "data": {
            "image/png": "[encoded data removed]",
            "text/plain": [
              "<Figure size 432x288 with 1 Axes>"
            ]
          },
          "metadata": {
            "tags": [],
            "needs_background": "light"
          }
        }
      ]
    },
    {
      "cell_type": "code",
      "metadata": {
        "id": "cMTISo2Eagi-",
        "colab": {
          "base_uri": "https://localhost:8080/",
          "height": 311
        },
        "outputId": "5f5df849-03c5-4260-c6ff-8cf9f911a91b"
      },
      "source": [
        "#print(item_missing_viz.index)\r\n",
        "\r\n",
        "plt.bar(item_missing_viz.index, item_missing_viz.values)"
      ],
      "execution_count": null,
      "outputs": [
        {
          "output_type": "stream",
          "text": [
            "Index([False, True], dtype='object', name='Missing_Item_Weight')\n"
          ],
          "name": "stdout"
        },
        {
          "output_type": "execute_result",
          "data": {
            "text/plain": [
              "<BarContainer object of 2 artists>"
            ]
          },
          "metadata": {
            "tags": []
          },
          "execution_count": 49
        },
        {
          "output_type": "display_data",
          "data": {
            "image/png": "[encoded data removed]",
            "text/plain": [
              "<Figure size 432x288 with 1 Axes>"
            ]
          },
          "metadata": {
            "tags": [],
            "needs_background": "light"
          }
        }
      ]
    },
    {
      "cell_type": "code",
      "metadata": {
        "id": "8vcFEQdvfzEM",
        "colab": {
          "base_uri": "https://localhost:8080/",
          "height": 283
        },
        "outputId": "c0cbd417-5c28-4b13-869e-52d1593719b4"
      },
      "source": [
        "sales['Item_Fat_Content'].hist()"
      ],
      "execution_count": null,
      "outputs": [
        {
          "output_type": "execute_result",
          "data": {
            "text/plain": [
              "<matplotlib.axes._subplots.AxesSubplot at 0x7fe1a9ac84e0>"
            ]
          },
          "metadata": {
            "tags": []
          },
          "execution_count": 158
        },
        {
          "output_type": "display_data",
          "data": {
            "image/png": "[encoded data removed]",
            "text/plain": [
              "<Figure size 432x288 with 1 Axes>"
            ]
          },
          "metadata": {
            "tags": [],
            "needs_background": "light"
          }
        }
      ]
    },
    {
      "cell_type": "code",
      "metadata": {
        "id": "DOphx7n7mfog"
      },
      "source": [
        ""
      ],
      "execution_count": null,
      "outputs": []
    }
  ]
}